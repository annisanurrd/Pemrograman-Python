{
  "nbformat": 4,
  "nbformat_minor": 0,
  "metadata": {
    "colab": {
      "name": "Untitled1.ipynb",
      "provenance": [],
      "authorship_tag": "ABX9TyMfIF3KNWhCzmttohbpMINX",
      "include_colab_link": true
    },
    "kernelspec": {
      "name": "python3",
      "display_name": "Python 3"
    }
  },
  "cells": [
    {
      "cell_type": "markdown",
      "metadata": {
        "id": "view-in-github",
        "colab_type": "text"
      },
      "source": [
        "<a href=\"https://colab.research.google.com/github/annisanurrd/Pemrograman-Python/blob/main/Tugas%20Minggu%2013.ipynb\" target=\"_parent\"><img src=\"https://colab.research.google.com/assets/colab-badge.svg\" alt=\"Open In Colab\"/></a>"
      ]
    },
    {
      "cell_type": "code",
      "metadata": {
        "id": "pham071UZ8Qz"
      },
      "source": [
        "import numpy as np\r\n",
        "import matplotlib.pyplot as plt"
      ],
      "execution_count": 1,
      "outputs": []
    },
    {
      "cell_type": "code",
      "metadata": {
        "colab": {
          "base_uri": "https://localhost:8080/"
        },
        "id": "lxL7hL9sZ_i7",
        "outputId": "a87be192-0e05-49e9-ae62-446e26f0dcbf"
      },
      "source": [
        "np.zeros(4)"
      ],
      "execution_count": 2,
      "outputs": [
        {
          "output_type": "execute_result",
          "data": {
            "text/plain": [
              "array([0., 0., 0., 0.])"
            ]
          },
          "metadata": {
            "tags": []
          },
          "execution_count": 2
        }
      ]
    },
    {
      "cell_type": "code",
      "metadata": {
        "colab": {
          "base_uri": "https://localhost:8080/"
        },
        "id": "DKF7I0ZgaEsU",
        "outputId": "dcc1b758-3f6e-4ca1-ebce-b148ccc031c2"
      },
      "source": [
        "np.ones(3)"
      ],
      "execution_count": 3,
      "outputs": [
        {
          "output_type": "execute_result",
          "data": {
            "text/plain": [
              "array([1., 1., 1.])"
            ]
          },
          "metadata": {
            "tags": []
          },
          "execution_count": 3
        }
      ]
    },
    {
      "cell_type": "code",
      "metadata": {
        "colab": {
          "base_uri": "https://localhost:8080/"
        },
        "id": "ZxrBTm5naIJf",
        "outputId": "ffc3a097-0e39-42d8-c3cc-c33b8542c316"
      },
      "source": [
        "np.zeros((3,4))"
      ],
      "execution_count": 4,
      "outputs": [
        {
          "output_type": "execute_result",
          "data": {
            "text/plain": [
              "array([[0., 0., 0., 0.],\n",
              "       [0., 0., 0., 0.],\n",
              "       [0., 0., 0., 0.]])"
            ]
          },
          "metadata": {
            "tags": []
          },
          "execution_count": 4
        }
      ]
    },
    {
      "cell_type": "code",
      "metadata": {
        "colab": {
          "base_uri": "https://localhost:8080/"
        },
        "id": "1HOsxutQaLn-",
        "outputId": "0724850d-08b2-4af4-d098-22a67828dff8"
      },
      "source": [
        "np.ones((5,2))"
      ],
      "execution_count": 5,
      "outputs": [
        {
          "output_type": "execute_result",
          "data": {
            "text/plain": [
              "array([[1., 1.],\n",
              "       [1., 1.],\n",
              "       [1., 1.],\n",
              "       [1., 1.],\n",
              "       [1., 1.]])"
            ]
          },
          "metadata": {
            "tags": []
          },
          "execution_count": 5
        }
      ]
    },
    {
      "cell_type": "code",
      "metadata": {
        "colab": {
          "base_uri": "https://localhost:8080/"
        },
        "id": "xOogPVpTaOTx",
        "outputId": "1bd48a28-8b73-4af2-ab45-d3c69b0300d5"
      },
      "source": [
        "np.arange(10)"
      ],
      "execution_count": 6,
      "outputs": [
        {
          "output_type": "execute_result",
          "data": {
            "text/plain": [
              "array([0, 1, 2, 3, 4, 5, 6, 7, 8, 9])"
            ]
          },
          "metadata": {
            "tags": []
          },
          "execution_count": 6
        }
      ]
    },
    {
      "cell_type": "code",
      "metadata": {
        "colab": {
          "base_uri": "https://localhost:8080/"
        },
        "id": "6dt4QFpbaXhD",
        "outputId": "7603484d-5b2e-495a-dda9-782fec0d35e9"
      },
      "source": [
        "np.arange(2,10)"
      ],
      "execution_count": 7,
      "outputs": [
        {
          "output_type": "execute_result",
          "data": {
            "text/plain": [
              "array([2, 3, 4, 5, 6, 7, 8, 9])"
            ]
          },
          "metadata": {
            "tags": []
          },
          "execution_count": 7
        }
      ]
    },
    {
      "cell_type": "code",
      "metadata": {
        "colab": {
          "base_uri": "https://localhost:8080/"
        },
        "id": "8PpXGYkWabCa",
        "outputId": "fd0cd5e5-bbca-4a6c-b5db-79388e0b5e02"
      },
      "source": [
        "np.arange(3,47,4)"
      ],
      "execution_count": 8,
      "outputs": [
        {
          "output_type": "execute_result",
          "data": {
            "text/plain": [
              "array([ 3,  7, 11, 15, 19, 23, 27, 31, 35, 39, 43])"
            ]
          },
          "metadata": {
            "tags": []
          },
          "execution_count": 8
        }
      ]
    },
    {
      "cell_type": "code",
      "metadata": {
        "colab": {
          "base_uri": "https://localhost:8080/"
        },
        "id": "x9aXwiH-a3Is",
        "outputId": "0185f12e-f130-470e-b61d-27098396404f"
      },
      "source": [
        "np.arange(4,5,0.2)"
      ],
      "execution_count": 9,
      "outputs": [
        {
          "output_type": "execute_result",
          "data": {
            "text/plain": [
              "array([4. , 4.2, 4.4, 4.6, 4.8])"
            ]
          },
          "metadata": {
            "tags": []
          },
          "execution_count": 9
        }
      ]
    },
    {
      "cell_type": "code",
      "metadata": {
        "colab": {
          "base_uri": "https://localhost:8080/"
        },
        "id": "J-kqlw7ka5fw",
        "outputId": "53e8ca92-4bd8-46fc-8041-ec3de64b8ed9"
      },
      "source": [
        "np.arange(4,5,0.1)"
      ],
      "execution_count": 10,
      "outputs": [
        {
          "output_type": "execute_result",
          "data": {
            "text/plain": [
              "array([4. , 4.1, 4.2, 4.3, 4.4, 4.5, 4.6, 4.7, 4.8, 4.9])"
            ]
          },
          "metadata": {
            "tags": []
          },
          "execution_count": 10
        }
      ]
    },
    {
      "cell_type": "code",
      "metadata": {
        "colab": {
          "base_uri": "https://localhost:8080/"
        },
        "id": "2--9rOPqa811",
        "outputId": "7769e466-5148-4da5-e02a-40ab3bc5cedd"
      },
      "source": [
        "np.arange(20,5,-5)"
      ],
      "execution_count": 11,
      "outputs": [
        {
          "output_type": "execute_result",
          "data": {
            "text/plain": [
              "array([20, 15, 10])"
            ]
          },
          "metadata": {
            "tags": []
          },
          "execution_count": 11
        }
      ]
    },
    {
      "cell_type": "code",
      "metadata": {
        "colab": {
          "base_uri": "https://localhost:8080/"
        },
        "id": "biHQGWNSbDJn",
        "outputId": "5fde3347-c0ff-4933-b52b-958ac61ae528"
      },
      "source": [
        "np.linspace(2,10,4)"
      ],
      "execution_count": 12,
      "outputs": [
        {
          "output_type": "execute_result",
          "data": {
            "text/plain": [
              "array([ 2.        ,  4.66666667,  7.33333333, 10.        ])"
            ]
          },
          "metadata": {
            "tags": []
          },
          "execution_count": 12
        }
      ]
    },
    {
      "cell_type": "code",
      "metadata": {
        "colab": {
          "base_uri": "https://localhost:8080/"
        },
        "id": "Y5yM663JbGl0",
        "outputId": "bcfee4c8-b823-455d-a615-baae393e9c95"
      },
      "source": [
        "np.linspace(2,10,4)"
      ],
      "execution_count": 13,
      "outputs": [
        {
          "output_type": "execute_result",
          "data": {
            "text/plain": [
              "array([ 2.        ,  4.66666667,  7.33333333, 10.        ])"
            ]
          },
          "metadata": {
            "tags": []
          },
          "execution_count": 13
        }
      ]
    },
    {
      "cell_type": "code",
      "metadata": {
        "colab": {
          "base_uri": "https://localhost:8080/"
        },
        "id": "2WYIuz-wbJ2o",
        "outputId": "ce472151-f9ed-4c1d-a55c-01da87908657"
      },
      "source": [
        "np.linspace(2,20,4)"
      ],
      "execution_count": 14,
      "outputs": [
        {
          "output_type": "execute_result",
          "data": {
            "text/plain": [
              "array([ 2.,  8., 14., 20.])"
            ]
          },
          "metadata": {
            "tags": []
          },
          "execution_count": 14
        }
      ]
    },
    {
      "cell_type": "code",
      "metadata": {
        "id": "qKOLKcXLbM0M"
      },
      "source": [
        "e=np.arange(0,20,2)"
      ],
      "execution_count": 16,
      "outputs": []
    },
    {
      "cell_type": "code",
      "metadata": {
        "colab": {
          "base_uri": "https://localhost:8080/"
        },
        "id": "xjaLIFYtbST1",
        "outputId": "0d6a2b65-6d40-420d-c65c-b2781911a978"
      },
      "source": [
        "len(e)"
      ],
      "execution_count": 17,
      "outputs": [
        {
          "output_type": "execute_result",
          "data": {
            "text/plain": [
              "10"
            ]
          },
          "metadata": {
            "tags": []
          },
          "execution_count": 17
        }
      ]
    },
    {
      "cell_type": "code",
      "metadata": {
        "colab": {
          "base_uri": "https://localhost:8080/"
        },
        "id": "FnlYpYESbVJs",
        "outputId": "b78779f9-e28f-4134-b4e5-db1b6936e047"
      },
      "source": [
        "e.reshape(5,2)"
      ],
      "execution_count": 18,
      "outputs": [
        {
          "output_type": "execute_result",
          "data": {
            "text/plain": [
              "array([[ 0,  2],\n",
              "       [ 4,  6],\n",
              "       [ 8, 10],\n",
              "       [12, 14],\n",
              "       [16, 18]])"
            ]
          },
          "metadata": {
            "tags": []
          },
          "execution_count": 18
        }
      ]
    },
    {
      "cell_type": "code",
      "metadata": {
        "colab": {
          "base_uri": "https://localhost:8080/"
        },
        "id": "tNtmBgV2bcrq",
        "outputId": "1a24fddd-81b5-41f8-afe8-34d003ec6e8f"
      },
      "source": [
        "e.reshape(2,5)"
      ],
      "execution_count": 19,
      "outputs": [
        {
          "output_type": "execute_result",
          "data": {
            "text/plain": [
              "array([[ 0,  2,  4,  6,  8],\n",
              "       [10, 12, 14, 16, 18]])"
            ]
          },
          "metadata": {
            "tags": []
          },
          "execution_count": 19
        }
      ]
    },
    {
      "cell_type": "code",
      "metadata": {
        "colab": {
          "base_uri": "https://localhost:8080/"
        },
        "id": "9Gp-d7cObfvx",
        "outputId": "a793657e-c12c-4891-e01d-f2a76858376d"
      },
      "source": [
        "print(e)"
      ],
      "execution_count": 20,
      "outputs": [
        {
          "output_type": "stream",
          "text": [
            "[ 0  2  4  6  8 10 12 14 16 18]\n"
          ],
          "name": "stdout"
        }
      ]
    },
    {
      "cell_type": "code",
      "metadata": {
        "colab": {
          "base_uri": "https://localhost:8080/"
        },
        "id": "t5Gmr0yBbiZb",
        "outputId": "c6f2b13c-2145-4d01-9f3f-0cb18f5ae80a"
      },
      "source": [
        "e[-2:]"
      ],
      "execution_count": 21,
      "outputs": [
        {
          "output_type": "execute_result",
          "data": {
            "text/plain": [
              "array([16, 18])"
            ]
          },
          "metadata": {
            "tags": []
          },
          "execution_count": 21
        }
      ]
    },
    {
      "cell_type": "code",
      "metadata": {
        "id": "2r-u29elbkxF"
      },
      "source": [
        "f=e.reshape(5,2)"
      ],
      "execution_count": 22,
      "outputs": []
    },
    {
      "cell_type": "code",
      "metadata": {
        "colab": {
          "base_uri": "https://localhost:8080/"
        },
        "id": "YdBE63_ibnLs",
        "outputId": "d096ee2e-fea9-4f87-8c0e-b7be2453f033"
      },
      "source": [
        "print(f)"
      ],
      "execution_count": 23,
      "outputs": [
        {
          "output_type": "stream",
          "text": [
            "[[ 0  2]\n",
            " [ 4  6]\n",
            " [ 8 10]\n",
            " [12 14]\n",
            " [16 18]]\n"
          ],
          "name": "stdout"
        }
      ]
    },
    {
      "cell_type": "code",
      "metadata": {
        "colab": {
          "base_uri": "https://localhost:8080/"
        },
        "id": "jAEQpbkMbqYH",
        "outputId": "542dd472-c881-477c-b486-9f82f7627ee6"
      },
      "source": [
        "f[:]"
      ],
      "execution_count": 24,
      "outputs": [
        {
          "output_type": "execute_result",
          "data": {
            "text/plain": [
              "array([[ 0,  2],\n",
              "       [ 4,  6],\n",
              "       [ 8, 10],\n",
              "       [12, 14],\n",
              "       [16, 18]])"
            ]
          },
          "metadata": {
            "tags": []
          },
          "execution_count": 24
        }
      ]
    },
    {
      "cell_type": "code",
      "metadata": {
        "colab": {
          "base_uri": "https://localhost:8080/"
        },
        "id": "f3n-BNQ2ckKU",
        "outputId": "12f3f0f6-d8ce-4024-a1a2-67e388f554e6"
      },
      "source": [
        "np.random.randint(1,20,10)"
      ],
      "execution_count": 25,
      "outputs": [
        {
          "output_type": "execute_result",
          "data": {
            "text/plain": [
              "array([ 4, 14,  3,  6, 18, 17,  8, 10, 19,  6])"
            ]
          },
          "metadata": {
            "tags": []
          },
          "execution_count": 25
        }
      ]
    },
    {
      "cell_type": "code",
      "metadata": {
        "colab": {
          "base_uri": "https://localhost:8080/"
        },
        "id": "d2EtGFqRcnGm",
        "outputId": "1bd75a1f-d7c0-455b-8ab9-d4aae631ab93"
      },
      "source": [
        "np.random.randn(3)"
      ],
      "execution_count": 26,
      "outputs": [
        {
          "output_type": "execute_result",
          "data": {
            "text/plain": [
              "array([ 0.3944065 ,  2.77925892, -0.9565983 ])"
            ]
          },
          "metadata": {
            "tags": []
          },
          "execution_count": 26
        }
      ]
    },
    {
      "cell_type": "code",
      "metadata": {
        "id": "CINFEHiWcrFz"
      },
      "source": [
        "x=np.linspace(1,10,21)\r\n",
        "y=x**2\r\n",
        "y2=x**3"
      ],
      "execution_count": 27,
      "outputs": []
    },
    {
      "cell_type": "code",
      "metadata": {
        "colab": {
          "base_uri": "https://localhost:8080/",
          "height": 295
        },
        "id": "pTgf2JoncucT",
        "outputId": "17129acf-fbbd-47e9-fd8e-9925e929ee07"
      },
      "source": [
        "plt.figure()\r\n",
        "plt.plot(x,y,'r-x',label='Y1')\r\n",
        "plt.plot(x,y2,'k-o',label='Y2')\r\n",
        "plt.legend()\r\n",
        "plt.title('Contoh Kurva Python')\r\n",
        "plt.xlabel('Angka-X')\r\n",
        "plt.ylabel('Angka-Y')\r\n",
        "plt.show()"
      ],
      "execution_count": 28,
      "outputs": [
        {
          "output_type": "display_data",
          "data": {
            "image/png": "[encoded data removed]",
            "text/plain": [
              "<Figure size 432x288 with 1 Axes>"
            ]
          },
          "metadata": {
            "tags": [],
            "needs_background": "light"
          }
        }
      ]
    },
    {
      "cell_type": "code",
      "metadata": {
        "colab": {
          "base_uri": "https://localhost:8080/"
        },
        "id": "fui-9-ilc-sq",
        "outputId": "8516d3ae-b9e2-495e-8938-0597b507860e"
      },
      "source": [
        "print (\"Annisa Nur Rahmahdiniyah_1101183497\")\r\n",
        "def cos(frek,tipe,ht,hr,d):\r\n",
        "  #frek = frekuensi (MHz),#tipe = urban, suburban, open,#ht = tinggi tower (meter),#hr = tinggi user (meter),#d = jarak (meter)\r\n",
        "    if frek in range(150,1501):\r\n",
        "        Ca=69.55\r\n",
        "        Cb=26.16\r\n",
        "    elif frek in range(1501,2001):\r\n",
        "        Ca=46.3\r\n",
        "        Cb=33.9\r\n",
        "    \r\n",
        "    if tipe=='urban' :\r\n",
        "        Cm=0\r\n",
        "    elif tipe=='suburban' :\r\n",
        "        Cm= -2*((np.log10((frek/28)**2))-5.4)\r\n",
        "    elif tipe=='open' :\r\n",
        "        Cm= -4.78*(np.log10(frek))+18.33*(np.log10(frek))-40.94\r\n",
        "    else :\r\n",
        "        Cm='tipe salah'\r\n",
        "    \r\n",
        "    ahr = (1.1*np.log10(frek)-0.7)*hr-(1.56*np.log10(frek)-1.8)\r\n",
        "    Lp = Ca+(Cb*np.log10(frek))-(13.83*np.log(ht))-ahr+((44.9-6.55*np.log10(ht))*np.log10(d))-Cm\r\n",
        "    \r\n",
        "    return Lp"
      ],
      "execution_count": 29,
      "outputs": [
        {
          "output_type": "stream",
          "text": [
            "Annisa Nur Rahmahdiniyah_1101183497\n"
          ],
          "name": "stdout"
        }
      ]
    },
    {
      "cell_type": "code",
      "metadata": {
        "colab": {
          "base_uri": "https://localhost:8080/"
        },
        "id": "d7CKJOx7dJpG",
        "outputId": "cd08bd9c-7243-40f2-9f36-51ca99a5651d"
      },
      "source": [
        "\r\n",
        "f=1800 #MHz\r\n",
        "loc='urban'\r\n",
        "tower=80 #m\r\n",
        "user=1.5 #m\r\n",
        "Dmin=200 #m\r\n",
        "Dmax=700 #m\r\n",
        "N=200 #titik\r\n",
        "D=np.random.randint(Dmin,Dmax,N)\r\n",
        "print(D)"
      ],
      "execution_count": 31,
      "outputs": [
        {
          "output_type": "stream",
          "text": [
            "[258 279 429 517 566 570 448 410 602 452 557 404 278 466 680 252 376 403\n",
            " 213 538 472 501 511 646 646 311 455 560 590 461 585 493 490 261 217 626\n",
            " 408 691 572 441 620 309 413 550 519 414 265 443 602 347 416 297 557 287\n",
            " 342 333 210 514 215 593 388 298 337 638 358 525 385 459 378 647 270 596\n",
            " 622 695 309 590 349 239 691 308 287 643 345 540 391 352 362 628 523 288\n",
            " 627 440 306 406 692 410 267 499 578 566 637 214 294 218 638 324 449 318\n",
            " 631 579 473 545 673 300 282 520 219 508 323 372 324 428 365 630 598 494\n",
            " 681 220 554 433 275 291 558 293 210 542 379 609 598 562 332 638 624 519\n",
            " 647 659 382 470 426 558 376 356 227 624 262 473 538 321 356 461 684 457\n",
            " 480 322 578 205 578 644 390 408 271 325 254 571 689 464 656 313 572 595\n",
            " 233 472 655 396 446 218 549 236 331 668 388 494 600 635 513 591 444 679\n",
            " 658 587]\n"
          ],
          "name": "stdout"
        }
      ]
    },
    {
      "cell_type": "code",
      "metadata": {
        "colab": {
          "base_uri": "https://localhost:8080/"
        },
        "id": "byr2PLAGdWTP",
        "outputId": "d30b6abc-10c1-4578-dccd-f9fd5cf21ae5"
      },
      "source": [
        "\r\n",
        "GrafikUrban=cos(f,loc,tower,user,D)\r\n",
        "print(GrafikUrban)"
      ],
      "execution_count": 32,
      "outputs": [
        {
          "output_type": "stream",
          "text": [
            "[173.22764283 174.32992186 180.39045706 183.01875116 184.29427692\n",
            " 184.39347619 181.00090267 179.75235389 185.16288176 181.12611449\n",
            " 184.0684909  179.54469061 174.27934286 181.5557934  186.87908348\n",
            " 172.89618665 178.53293625 179.50978046 170.52777003 183.57960436\n",
            " 181.73600358 182.5759253  182.8543185  186.15655395 186.15655395\n",
            " 175.85942145 181.21929832 184.14415574 184.87925665 181.40383683\n",
            " 184.75937306 182.34918016 182.26320082 173.39049132 170.78984712\n",
            " 185.713554   179.6834724  187.10512569 184.44281507 180.77906757\n",
            " 185.57789095 175.76854219 179.85504867 183.89034279 183.07313824\n",
            " 179.88911456 173.6047348  180.84280631 185.16288176 177.40231336\n",
            " 179.95700017 175.21059846 184.0684909  174.72814591 177.19786511\n",
            " 176.82220984 170.32796189 182.93677476 170.65941807 184.95070011\n",
            " 178.97547226 175.2579472  176.99040572 185.98102224 177.84191957\n",
            " 183.2350508  178.8661348  181.34259222 178.60766448 186.17834241\n",
            " 173.86803663 185.02178304 185.62325729 187.18643176 175.76854219\n",
            " 184.87925665 177.48326897 172.15010153 187.10512569 175.72288173\n",
            " 174.72814591 186.09098562 177.3208898  183.63187246 179.08396756\n",
            " 177.60383665 177.99843493 185.75848621 183.18128647 174.77714157\n",
            " 185.73603802 180.74708972 175.63111439 179.61425242 187.12549625\n",
            " 179.75235389 173.71064686 182.51958027 184.58980323 184.29427692\n",
            " 185.95892618 170.59374784 175.06758974 170.85461155 185.98102224\n",
            " 176.43626138 181.03231012 176.17295956 185.82561694 184.61415283\n",
            " 181.76581574 183.76170046 186.73332658 175.35216988 174.48057824\n",
            " 183.10025324 170.91907957 182.77137672 176.39271811 178.38227987\n",
            " 176.43626138 180.35758368 178.11469065 185.80327556 185.06897316\n",
            " 182.37772371 186.89978332 170.98325388 183.99241742 180.52118874\n",
            " 174.12650695 174.92311425 184.0937577  175.0195957  170.32796189\n",
            " 183.68394734 178.64488045 185.32573025 185.06897316 184.19437411\n",
            " 176.77984519 185.98102224 185.668478   183.07313824 186.17834241\n",
            " 186.43720858 178.75594203 181.67618932 180.29160587 184.0937577\n",
            " 178.53293625 177.76300487 171.42446965 185.668478   173.44435845\n",
            " 181.76581574 183.57960436 176.30522567 177.76300487 181.40383683\n",
            " 186.96170094 181.28108017 181.97275265 176.34903982 184.58980323\n",
            " 169.98851806 184.58980323 186.11287566 179.04789523 179.6834724\n",
            " 173.9201115  176.47967047 173.00754089 184.41816723 187.06429599\n",
            " 181.49520734 186.37293666 175.94971816 184.44281507 184.99812856\n",
            " 171.79195756 181.73600358 186.35144736 179.26295647 180.93787689\n",
            " 170.85461155 183.86470814 171.97216775 176.73735273 186.62828331\n",
            " 178.97547226 182.37772371 185.11600572 185.91462979 182.90934294\n",
            " 184.90311142 180.87456785 186.85835318 186.41581717 184.807449  ]\n"
          ],
          "name": "stdout"
        }
      ]
    },
    {
      "cell_type": "code",
      "metadata": {
        "id": "GOD_SAx0daTB"
      },
      "source": [
        "\r\n",
        "D_sorting=D[np.argsort(D)]\r\n",
        "Urban_sorting=GrafikUrban[np.argsort(D)]"
      ],
      "execution_count": 33,
      "outputs": []
    },
    {
      "cell_type": "code",
      "metadata": {
        "colab": {
          "base_uri": "https://localhost:8080/"
        },
        "id": "jgyetOglddcp",
        "outputId": "7d6d8039-6a28-4378-d774-4bcf9b640c60"
      },
      "source": [
        "\r\n",
        "f=1800 #MHz\r\n",
        "loc='suburban'\r\n",
        "tower=80 #m\r\n",
        "user=1.5 #m\r\n",
        "Dmin=200 #m\r\n",
        "Dmax=700 #m\r\n",
        "N=200 #titik\r\n",
        "A=np.random.randint(Dmin,Dmax,N)\r\n",
        "print(A)"
      ],
      "execution_count": 34,
      "outputs": [
        {
          "output_type": "stream",
          "text": [
            "[259 238 300 599 484 548 441 610 496 570 370 294 647 593 523 651 388 374\n",
            " 609 686 591 216 435 514 567 372 446 363 378 246 300 489 564 530 330 519\n",
            " 664 488 573 282 302 667 579 557 397 492 623 266 575 376 600 626 444 502\n",
            " 232 212 424 451 320 628 407 525 518 552 337 307 269 604 329 491 295 256\n",
            " 443 407 240 452 249 401 632 602 615 321 530 484 570 280 428 633 387 537\n",
            " 687 547 206 339 531 563 298 587 567 370 301 515 215 313 375 394 399 567\n",
            " 514 458 459 335 662 386 431 305 230 688 367 398 666 437 432 491 255 302\n",
            " 613 620 509 591 361 602 413 416 511 463 670 575 308 448 535 649 540 289\n",
            " 629 323 407 412 650 450 294 682 419 609 337 230 200 600 586 407 644 230\n",
            " 328 453 459 457 570 616 437 604 268 649 223 572 405 375 457 659 662 431\n",
            " 614 584 421 431 431 210 314 442 373 222 481 665 217 248 372 472 599 259\n",
            " 679 263]\n"
          ],
          "name": "stdout"
        }
      ]
    },
    {
      "cell_type": "code",
      "metadata": {
        "colab": {
          "base_uri": "https://localhost:8080/"
        },
        "id": "5UgGpIfEdg5L",
        "outputId": "21659fc1-b332-4654-93ce-cb786a0d159a"
      },
      "source": [
        "\r\n",
        "Grafiksuburban=cos(f,loc,tower,user,A)\r\n",
        "print(Grafiksuburban)"
      ],
      "execution_count": 35,
      "outputs": [
        {
          "output_type": "stream",
          "text": [
            "[169.714593   168.52349755 171.78462777 181.52496696 178.52210945\n",
            " 180.27148464 177.21152547 181.78129928 178.86709577 180.82593408\n",
            " 174.73880099 171.50004764 182.61080031 181.383158   179.61374436\n",
            " 182.69761869 175.40793015 174.89026737 181.75818814 183.43528657\n",
            " 181.33556932 167.15724145 177.01856029 179.36923265 180.7516002\n",
            " 174.81473776 177.37033479 174.46975144 175.04012237 168.98920071\n",
            " 171.78462777 178.66688192 180.67687198 179.80102853 173.12718961\n",
            " 179.50559614 182.97613892 178.63804621 180.89987776 170.91303614\n",
            " 171.87822438 183.03963822 181.04661072 180.50094879 175.73094083\n",
            " 178.75303655 182.07834369 170.09024827 180.94895877 174.96539415\n",
            " 181.54846361 182.14601189 177.30702575 179.03647141 168.16382939\n",
            " 166.89393963 176.65777546 177.52737362 172.69373271 182.19094411\n",
            " 176.08136282 179.66750869 179.47842884 180.37393046 173.42286362\n",
            " 172.10953069 170.24822642 181.64206022 173.08443923 178.72437685\n",
            " 171.54787871 169.55047964 177.27526421 176.08136282 168.6413747\n",
            " 177.55857239 169.15994507 175.87215743 182.28038084 181.59533965\n",
            " 181.89628962 172.73768357 179.80102853 178.52210945 180.82593408\n",
            " 170.8127778  176.79004158 182.30265157 175.37157855 179.9858553\n",
            " 183.45580549 180.24575635 166.48952225 173.50621438 179.8275813\n",
            " 180.65187421 171.6904051  181.2399069  180.7516002  174.73880099\n",
            " 171.83150381 179.39661116 167.09187596 172.38217605 174.92788084\n",
            " 175.62409149 175.8017261  180.7516002  179.36923265 177.74432766\n",
            " 177.77505011 173.33901672 182.93364647 175.33513289 176.88843246\n",
            " 172.01746345 168.04186986 183.47629457 174.62412271 175.76637793\n",
            " 183.01850358 177.08317617 176.92107729 178.72437685 169.49534753\n",
            " 171.87822438 181.85040607 182.01034884 179.23153618 181.33556932\n",
            " 174.39192672 181.59533965 176.28750656 176.38945806 179.28677639\n",
            " 177.8972742  183.10285256 180.94895877 172.15533963 177.43336056\n",
            " 179.93329465 182.65427638 180.06433036 171.25842529 182.21335658\n",
            " 172.82517601 176.08136282 176.25335809 182.6759642  177.4961056\n",
            " 171.50004764 183.35291068 176.49067697 181.75818814 173.42286362\n",
            " 168.04186986 166.07314994 181.54846361 181.21588943 176.08136282\n",
            " 182.54533355 168.04186986 173.04155872 177.58970221 177.77505011\n",
            " 177.71353806 180.82593408 181.91917547 177.08317617 181.64206022\n",
            " 170.19576365 182.65427638 167.60649895 180.87527297 176.01197235\n",
            " 174.92788084 177.71353806 182.86966647 182.93364647 176.88843246\n",
            " 181.87336652 181.16773131 176.55775442 176.88843246 176.88843246\n",
            " 166.76041979 172.42710827 177.24343089 174.85255319 167.54318991\n",
            " 178.43452634 182.99733718 167.22230502 169.10325994 174.81473776\n",
            " 178.16846148 181.52496696 169.714593   183.29081107 169.93047826]\n"
          ],
          "name": "stdout"
        }
      ]
    },
    {
      "cell_type": "code",
      "metadata": {
        "id": "foHhefKudn95"
      },
      "source": [
        "\r\n",
        "A_sorting=A[np.argsort(A)]\r\n",
        "suburban_sorting=Grafiksuburban[np.argsort(A)]"
      ],
      "execution_count": 36,
      "outputs": []
    },
    {
      "cell_type": "code",
      "metadata": {
        "colab": {
          "base_uri": "https://localhost:8080/"
        },
        "id": "Jo-PtmhThMdN",
        "outputId": "3456bbe8-2982-4033-f55c-5aa1d50ac05a"
      },
      "source": [
        "\r\n",
        "f=1800 #MHz\r\n",
        "loc='open'\r\n",
        "tower=80 #m\r\n",
        "user=1.5 #m\r\n",
        "Dmin=200 #m\r\n",
        "Dmax=700 #m\r\n",
        "N=200 #titik\r\n",
        "B=np.random.randint(Dmin,Dmax,N)\r\n",
        "print(B)"
      ],
      "execution_count": 37,
      "outputs": [
        {
          "output_type": "stream",
          "text": [
            "[234 480 698 550 286 517 536 585 268 595 571 674 479 595 466 533 553 361\n",
            " 573 260 672 261 351 449 515 653 457 566 268 682 328 664 278 330 613 418\n",
            " 536 511 448 265 228 254 280 291 667 487 532 681 258 605 501 226 665 686\n",
            " 254 360 451 254 331 244 348 455 489 476 518 627 273 641 499 523 469 287\n",
            " 641 263 517 229 490 389 463 642 346 208 613 290 237 210 492 316 534 538\n",
            " 331 562 636 237 395 423 587 511 267 509 208 612 218 528 637 236 665 275\n",
            " 274 530 655 639 208 301 494 376 416 460 657 320 370 406 467 362 420 390\n",
            " 602 585 345 547 218 652 527 420 502 205 416 216 473 633 573 343 544 207\n",
            " 684 616 655 252 477 593 204 574 286 684 312 357 368 256 545 585 543 575\n",
            " 524 572 592 269 578 545 590 599 379 562 393 332 474 592 520 691 503 236\n",
            " 632 219 500 375 584 282 468 446 693 419 261 239 225 685 234 621 351 426\n",
            " 628 426]\n"
          ],
          "name": "stdout"
        }
      ]
    },
    {
      "cell_type": "code",
      "metadata": {
        "colab": {
          "base_uri": "https://localhost:8080/"
        },
        "id": "KgPNWBWihRPc",
        "outputId": "a212c81a-fb2f-4166-e2bb-a3da7e6aa82b"
      },
      "source": [
        "\r\n",
        "Grafikopen=cos(f,loc,tower,user,B)\r\n",
        "print(Grafikopen)"
      ],
      "execution_count": 38,
      "outputs": [
        {
          "output_type": "stream",
          "text": [
            "[168.68334171 178.8038102  184.07816237 180.72140035 171.51003679\n",
            " 179.84980871 180.35819915 181.59043061 170.59436331 181.82918612\n",
            " 181.24922479 183.58529912 178.77443326 181.82918612 178.38685095\n",
            " 180.2791368  180.79802558 174.79052638 181.29847742 170.16747496\n",
            " 183.54343805 170.22154887 174.39481953 177.86336768 179.79521082\n",
            " 183.1394277  178.11213772 181.12533448 170.59436331 183.75151034\n",
            " 173.44015838 183.37473858 171.11040041 173.52578927 182.24900573\n",
            " 176.85561775 180.35819915 179.68537606 177.83196022 170.43579236\n",
            " 168.31744483 169.83859844 171.21137746 171.7541718  183.43823788\n",
            " 179.00775102 180.25268377 183.73084087 170.05870038 182.06396218\n",
            " 179.40698285 168.19333621 183.39593684 183.83388623 169.83859844\n",
            " 174.75145219 177.92597328 169.83859844 173.56841029 169.27281004\n",
            " 174.27390688 178.05035588 179.06548158 178.68593305 179.8770285\n",
            " 182.56709558 170.8547448  182.87816078 179.35063783 180.01234402\n",
            " 178.47724423 171.55920346 182.87816078 170.32907792 179.84980871\n",
            " 168.37909149 179.09425838 175.84278784 178.29587386 182.90011907\n",
            " 174.19271797 167.02422189 182.24900573 171.70568212 168.86278665\n",
            " 167.15901945 179.15163621 172.91514466 180.30554025 180.41066192\n",
            " 173.56841029 181.02543166 182.76785295 168.86278665 176.05839773\n",
            " 177.02311363 181.63850656 179.68537606 170.54170442 179.63013584\n",
            " 167.02422189 182.22600778 167.6856691  180.14637203 182.78998373\n",
            " 168.8032253  183.39593684 170.95756451 170.90624847 180.19962819\n",
            " 183.18250491 182.83414125 167.02422189 172.23010347 179.20878127\n",
            " 175.36399381 176.78805773 178.20430536 183.22545079 173.09233237\n",
            " 175.13740065 176.44530998 178.41704654 174.82949249 176.92285529\n",
            " 175.87895279 181.99393931 181.59043061 174.15194735 180.64435601\n",
            " 167.6856691  183.11783959 180.11966826 176.92285529 179.43507107\n",
            " 166.81957561 176.78805773 167.55584111 178.59687329 182.70125123\n",
            " 181.29847742 174.07005039 180.56688796 166.95633627 183.7927585\n",
            " 182.31777513 183.18250491 169.72724421 178.71549494 181.78175766\n",
            " 166.75069412 181.3230393  171.51003679 183.7927585  172.73569972\n",
            " 174.63357504 175.06105229 169.9490793  180.59275801 181.59043061\n",
            " 180.54097032 181.34755843 180.03925184 181.27387263 181.75798342\n",
            " 170.64682608 181.42086079 180.59275801 181.71031421 181.92356662\n",
            " 175.47593801 181.02543166 175.98689383 173.61090274 178.62662249\n",
            " 181.75798342 179.9313108  183.93618325 179.4631034  168.8032253\n",
            " 182.6789805  167.75013712 179.37883851 175.3264805  181.56633097\n",
            " 171.3116358  178.44717754 177.76893445 183.97689495 176.88927663\n",
            " 170.22154887 168.98115909 168.13086942 183.81333738 168.68334171\n",
            " 182.43164994 174.39481953 177.12266342 182.58954377 177.12266342]\n"
          ],
          "name": "stdout"
        }
      ]
    },
    {
      "cell_type": "code",
      "metadata": {
        "id": "rcZjNNfqhUjb"
      },
      "source": [
        "\r\n",
        "B_sorting=B[np.argsort(B)]\r\n",
        "open_sorting=Grafikopen[np.argsort(B)]"
      ],
      "execution_count": 39,
      "outputs": []
    },
    {
      "cell_type": "code",
      "metadata": {
        "colab": {
          "base_uri": "https://localhost:8080/",
          "height": 295
        },
        "id": "coOwV97FhXkR",
        "outputId": "1d44fa3d-876d-462d-df42-a30bad3cc114"
      },
      "source": [
        "\r\n",
        "plt.figure()\r\n",
        "plt.plot(D_sorting,Urban_sorting,'g', label='Urban')\r\n",
        "plt.plot(B_sorting,open_sorting,'y', label='Open')\r\n",
        "plt.plot(A_sorting,suburban_sorting,'k', label='Suburban')\r\n",
        "plt.legend()\r\n",
        "plt.title('FREKUENSI 1800 MHZ (GAMBAR CONTOH)')\r\n",
        "plt.xlabel('Jarak (m)')\r\n",
        "plt.ylabel('Path Loss (dB)')\r\n",
        "plt.show()"
      ],
      "execution_count": 40,
      "outputs": [
        {
          "output_type": "display_data",
          "data": {
            "image/png": "[encoded data removed]",
            "text/plain": [
              "<Figure size 432x288 with 1 Axes>"
            ]
          },
          "metadata": {
            "tags": [],
            "needs_background": "light"
          }
        }
      ]
    },
    {
      "cell_type": "code",
      "metadata": {
        "colab": {
          "base_uri": "https://localhost:8080/"
        },
        "id": "qooEN0NNh_h0",
        "outputId": "402a10be-b904-4dfc-df48-7f2640f2d6ab"
      },
      "source": [
        "\r\n",
        "f=1800 #MHz\r\n",
        "loc='urban'\r\n",
        "tower=80 #m\r\n",
        "user=1.5 #m\r\n",
        "Dmin=200 #m\r\n",
        "Dmax=700 #m\r\n",
        "N=200 #titik\r\n",
        "P=np.random.randint(Dmin,Dmax,N)\r\n",
        "print(P)"
      ],
      "execution_count": 41,
      "outputs": [
        {
          "output_type": "stream",
          "text": [
            "[414 327 440 232 624 237 544 672 275 347 362 370 290 562 635 485 256 481\n",
            " 482 273 553 593 511 234 687 624 491 609 569 595 456 592 528 385 414 674\n",
            " 291 477 400 272 516 498 664 498 696 288 496 304 430 575 225 647 302 614\n",
            " 371 519 207 406 466 213 475 446 547 528 458 692 212 357 543 511 351 587\n",
            " 409 217 562 526 205 277 487 265 298 308 487 415 250 695 242 492 657 214\n",
            " 323 526 636 283 361 610 451 398 317 478 374 307 609 334 460 386 345 238\n",
            " 375 505 472 628 433 642 342 611 650 425 480 414 585 627 673 262 428 269\n",
            " 494 497 404 465 359 538 386 397 493 561 422 455 314 343 343 532 614 430\n",
            " 306 403 328 261 645 340 562 495 202 679 678 346 412 398 247 549 679 501\n",
            " 448 690 477 390 675 440 585 675 220 423 519 685 642 436 308 354 577 553\n",
            " 391 698 387 316 695 337 291 438 403 250 517 531 338 644 461 541 550 473\n",
            " 392 242]\n"
          ],
          "name": "stdout"
        }
      ]
    },
    {
      "cell_type": "code",
      "metadata": {
        "colab": {
          "base_uri": "https://localhost:8080/"
        },
        "id": "D4Vac9joiCp1",
        "outputId": "116ddc98-6c69-42da-82fe-822b170e3721"
      },
      "source": [
        "\r\n",
        "GrafikUrban1=cos(f,loc,tower,user,P)\r\n",
        "print(GrafikUrban1)"
      ],
      "execution_count": 42,
      "outputs": [
        {
          "output_type": "stream",
          "text": [
            "[179.88911456 176.56608938 180.74708972 171.7313715  185.668478\n",
            " 172.03172909 183.73583041 186.7123805  174.12650695 177.40231336\n",
            " 177.99843493 178.30634309 174.87462457 184.19437411 185.91462979\n",
            " 182.11872533 173.11802175 182.00206845 182.03132336 174.02368724\n",
            " 183.96696802 184.95070011 182.8543185  171.85228415 187.0233476\n",
            " 185.668478   182.29191895 185.32573025 184.36874179 184.99812856\n",
            " 181.25022312 184.92692586 183.31531448 178.8661348  179.88911456\n",
            " 186.75424156 174.92311425 181.88443739 179.40452789 173.97199457\n",
            " 182.99147866 182.49132302 186.54368103 182.49132302 187.20668516\n",
            " 174.77714157 182.43463788 175.53874529 180.42325391 184.51650088\n",
            " 171.29981187 186.17834241 175.44576648 185.44090863 178.34436265\n",
            " 183.07313824 170.12527872 179.61425242 181.5557934  170.52777003\n",
            " 181.82525143 180.93787689 183.81329845 183.31531448 181.31186977\n",
            " 187.12549625 170.46148173 177.80251748 183.70991276 182.8543185\n",
            " 177.56376198 184.807449   179.71795525 170.78984712 184.19437411\n",
            " 183.26185621 169.98851806 174.22858158 182.17669346 173.6047348\n",
            " 175.2579472  175.72288173 182.17669346 179.92309826 172.78394512\n",
            " 187.18643176 172.32581571 182.32057865 186.39439323 170.59374784\n",
            " 176.39271811 183.26185621 185.9367954  174.53044108 177.95946883\n",
            " 185.34884139 181.09491573 179.33392003 176.12859342 181.91393737\n",
            " 178.45780947 175.67707279 185.32573025 176.86444747 181.37324781\n",
            " 178.902675   177.3208898  172.09103965 178.49542295 182.68794368\n",
            " 181.73600358 185.75848621 180.52118874 186.06906151 177.19786511\n",
            " 185.37191467 186.24350631 180.25850071 181.97275265 179.88911456\n",
            " 184.75937306 185.73603802 186.73332658 173.44435845 180.35758368\n",
            " 173.81576852 182.37772371 182.46300896 179.54469061 181.52553294\n",
            " 177.88121175 183.57960436 178.902675   179.29848294 182.34918016\n",
            " 184.1692873  180.15871585 181.21929832 175.99465037 177.23899284\n",
            " 177.23899284 183.42162621 185.44090863 180.42325391 175.63111439\n",
            " 179.50978046 176.60910082 173.39049132 186.13473173 177.11524764\n",
            " 184.19437411 182.40620954 169.78085477 186.85835318 186.83759232\n",
            " 177.36166041 179.8209002  179.33392003 172.61388787 183.86470814\n",
            " 186.85835318 182.5759253  181.00090267 187.08472564 181.88443739\n",
            " 179.04789523 186.77512553 180.74708972 184.75937306 186.77512553\n",
            " 170.98325388 180.19205607 183.07313824 186.98227982 186.06906151\n",
            " 180.61844739 175.72288173 177.68364557 184.56541147 183.96696802\n",
            " 179.08396756 187.24710481 178.93912065 176.0840871  187.18643176\n",
            " 176.99040572 174.92311425 180.68291541 179.50978046 172.78394512\n",
            " 183.01875116 183.3951234  177.03214275 186.11287566 181.40383683\n",
            " 183.65793397 183.89034279 181.76581574 179.11994775 172.32581571]\n"
          ],
          "name": "stdout"
        }
      ]
    },
    {
      "cell_type": "code",
      "metadata": {
        "id": "0yly3LQjiGIJ"
      },
      "source": [
        "\r\n",
        "P_sorting=P[np.argsort(P)]\r\n",
        "Urban_sorting1=GrafikUrban1[np.argsort(P)]"
      ],
      "execution_count": 43,
      "outputs": []
    },
    {
      "cell_type": "code",
      "metadata": {
        "colab": {
          "base_uri": "https://localhost:8080/"
        },
        "id": "WIKMhQGoiIhX",
        "outputId": "393f1ff1-2a4b-433b-d665-cdbd81aaf8ba"
      },
      "source": [
        "\r\n",
        "f=900 #MHz\r\n",
        "loc='urban'\r\n",
        "tower=80 #m\r\n",
        "user=1.5 #m\r\n",
        "Dmin=200 #m\r\n",
        "Dmax=700 #m\r\n",
        "N=200 #titik\r\n",
        "K=np.random.randint(Dmin,Dmax,N)\r\n",
        "print(K)"
      ],
      "execution_count": 44,
      "outputs": [
        {
          "output_type": "stream",
          "text": [
            "[674 690 236 555 352 437 217 430 643 298 490 642 317 240 420 511 626 560\n",
            " 680 366 581 403 415 470 681 575 347 605 471 547 242 328 550 378 406 561\n",
            " 272 512 281 463 506 386 636 690 531 609 522 366 213 403 406 485 362 513\n",
            " 545 591 433 376 612 518 351 414 334 442 601 271 450 221 318 431 622 574\n",
            " 217 464 227 284 265 617 409 529 690 366 308 363 458 330 586 393 253 446\n",
            " 371 463 298 227 508 491 683 297 633 639 427 497 583 599 308 380 233 219\n",
            " 255 362 568 393 637 245 618 459 417 337 649 486 643 654 518 400 671 488\n",
            " 225 402 522 309 370 448 676 247 560 580 513 248 241 511 580 437 609 386\n",
            " 439 300 547 409 484 498 483 254 608 267 609 336 684 239 320 660 698 226\n",
            " 583 621 223 553 574 295 530 519 581 519 350 531 467 395 630 394 587 530\n",
            " 464 461 283 306 404 510 389 632 568 348 567 495 491 354 306 521 611 684\n",
            " 429 609]\n"
          ],
          "name": "stdout"
        }
      ]
    },
    {
      "cell_type": "code",
      "metadata": {
        "colab": {
          "base_uri": "https://localhost:8080/"
        },
        "id": "v6MWHo5miK7t",
        "outputId": "aa0757e1-10bc-4a50-beb3-e789599b6c45"
      },
      "source": [
        "\r\n",
        "GrafikUrban2=cos(f,loc,tower,user,K)\r\n",
        "print(GrafikUrban2)"
      ],
      "execution_count": 45,
      "outputs": [
        {
          "output_type": "stream",
          "text": [
            "[176.96058038 177.29106446 162.17850657 174.22415975 167.81017547\n",
            " 170.8570571  160.99618595 170.62959273 176.29732444 165.46428602\n",
            " 172.46953965 176.27540033 166.33493224 162.41525563 170.29813655\n",
            " 173.06065732 175.91989282 174.35049456 177.0854223  168.35956913\n",
            " 174.86906493 169.71611929 170.12943708 171.88252815 177.10612214\n",
            " 174.7228397  167.60865219 175.43924345 171.91246703 174.01963728\n",
            " 162.53215454 166.81543965 174.09668161 168.8140033  169.82059124\n",
            " 174.37562613 164.17833339 173.08819641 164.63687709 171.67115513\n",
            " 172.92214846 169.10901382 176.14313422 177.29106446 173.60146223\n",
            " 175.53206907 173.36066598 168.35956913 160.73410885 169.71611929\n",
            " 169.82059124 172.32506415 168.20477376 173.11568176 173.96803928\n",
            " 175.10945025 170.72752757 168.73927508 175.60128905 173.25230977\n",
            " 167.7701008  170.09545338 167.07078629 171.01731182 175.34580206\n",
            " 164.12645032 171.26998653 161.25347598 166.37929838 170.66231339\n",
            " 175.82959612 174.69832057 160.99618595 171.70154616 161.63080847\n",
            " 164.78646686 163.81107362 175.71590512 169.92429407 173.54830655\n",
            " 177.29106446 168.35956913 165.92922056 168.24363237 171.51820859\n",
            " 166.90107053 174.98977036 169.3621751  163.15831263 171.14421572\n",
            " 168.55070148 171.67115513 165.46428602 161.63080847 172.97771555\n",
            " 172.49825778 177.14743079 165.41693728 176.0765325  176.20942252\n",
            " 170.53097223 172.66934778 174.9174713  175.29884789 165.92922056\n",
            " 168.88833718 161.99829638 161.12541839 163.26922845 168.20477376\n",
            " 174.5503027  169.3621751  176.165265   162.70570381 175.73871685\n",
            " 171.54893104 170.19715951 167.19674455 176.42815731 172.35407804\n",
            " 176.29732444 176.53626404 173.25230977 169.61086671 176.89774205\n",
            " 172.41192714 161.50615069 169.68112241 173.36066598 165.97488101\n",
            " 168.51268192 171.20724149 177.00231742 162.8202267  174.35049456\n",
            " 174.84479923 173.11568176 162.87714086 162.47382635 173.06065732\n",
            " 174.84479923 170.8570571  175.53206907 169.10901382 170.92137793\n",
            " 165.5585087  174.01963728 169.92429407 172.29599038 172.69766184\n",
            " 172.26685647 163.21387971 175.50891995 163.91698568 175.53206907\n",
            " 167.15488348 177.16803977 162.35644036 166.46761364 176.66490637\n",
            " 177.45344364 161.56861748 174.9174713  175.80693121 161.38037988\n",
            " 174.17330685 174.69832057 165.32175964 173.57490946 173.27947706\n",
            " 174.86906493 173.27947706 167.72991179 173.60146223 171.79232781\n",
            " 169.433679   176.00961438 169.39797242 175.01378782 173.57490946\n",
            " 171.70154616 171.61017565 164.73677991 165.83745321 169.75102943\n",
            " 173.03306429 169.21806911 176.05426176 174.5503027  167.64918815\n",
            " 174.52548113 172.61254836 172.49825778 167.8899844  165.83745321\n",
            " 173.33365497 175.5782535  177.16803977 170.59679589 175.53206907]\n"
          ],
          "name": "stdout"
        }
      ]
    },
    {
      "cell_type": "code",
      "metadata": {
        "id": "ppjkYz6biOc3"
      },
      "source": [
        "\r\n",
        "K_sorting=K[np.argsort(K)]\r\n",
        "Urban_sorting2=GrafikUrban2[np.argsort(K)]"
      ],
      "execution_count": 46,
      "outputs": []
    },
    {
      "cell_type": "code",
      "metadata": {
        "colab": {
          "base_uri": "https://localhost:8080/"
        },
        "id": "U5nkE4xEiRKI",
        "outputId": "61841a01-1cd0-4322-fcf0-281cb24bad13"
      },
      "source": [
        "\r\n",
        "f=700 #MHz\r\n",
        "loc='urban'\r\n",
        "tower=80 #m\r\n",
        "user=1.5 #m\r\n",
        "Dmin=200 #m\r\n",
        "Dmax=700 #m\r\n",
        "N=200 #titik\r\n",
        "R=np.random.randint(Dmin,Dmax,N)\r\n",
        "print(R)"
      ],
      "execution_count": 47,
      "outputs": [
        {
          "output_type": "stream",
          "text": [
            "[610 369 305 579 651 239 451 229 507 568 385 251 672 259 518 360 205 557\n",
            " 469 637 690 690 382 621 405 475 292 672 428 280 258 219 497 560 535 689\n",
            " 275 441 614 264 663 677 307 655 488 313 269 236 469 254 449 691 335 600\n",
            " 296 508 603 262 435 397 469 225 246 410 204 368 589 567 521 493 606 384\n",
            " 355 422 393 426 683 689 487 439 579 643 591 247 336 644 424 519 434 459\n",
            " 505 446 588 670 446 451 236 607 646 495 230 580 667 272 227 456 601 281\n",
            " 463 321 335 657 627 477 318 680 450 466 399 405 492 631 587 585 334 491\n",
            " 660 543 543 688 591 589 266 252 513 626 391 648 255 589 659 627 372 312\n",
            " 484 321 403 235 215 451 511 359 455 525 554 386 660 488 468 490 353 439\n",
            " 574 238 542 313 513 405 550 236 249 407 349 224 564 588 591 684 334 671\n",
            " 698 663 449 381 516 347 653 684 279 645 420 471 476 206 296 391 657 446\n",
            " 395 303]\n"
          ],
          "name": "stdout"
        }
      ]
    },
    {
      "cell_type": "code",
      "metadata": {
        "colab": {
          "base_uri": "https://localhost:8080/"
        },
        "id": "JF4HBjsJiV7g",
        "outputId": "ebc92821-92bd-4c7f-9424-87b38f1bde43"
      },
      "source": [
        "\r\n",
        "GrafikUrban3=cos(f,loc,tower,user,R)\r\n",
        "print(GrafikUrban3)"
      ],
      "execution_count": 48,
      "outputs": [
        {
          "output_type": "stream",
          "text": [
            "[172.7097839  165.62916315 162.94594806 171.97509533 173.6261033\n",
            " 159.51104404 168.45585823 158.90897644 170.10456309 171.70490638\n",
            " 166.22707731 160.20112018 174.073323   160.64307761 170.40691345\n",
            " 165.28133714 157.34946056 171.4294334  169.00712918 173.31986868\n",
            " 174.44566814 174.44566814 166.11688454 172.96153489 166.94045696\n",
            " 169.18619393 162.33238008 174.073323   167.71852619 161.74126241\n",
            " 160.58858533 158.28002207 169.82395147 171.50509824 170.86177926\n",
            " 174.4252385  161.48744946 168.14001008 172.80185113 160.91242115\n",
            " 173.88339333 174.17774333 163.0380153  173.71238986 169.56653082\n",
            " 163.31066066 161.17671103 159.33311025 169.00712918 160.36848339\n",
            " 168.39325263 174.4660682  164.26750133 172.47694822 162.52403253\n",
            " 170.13231923 172.54720392 160.80530095 167.9470449  166.65942544\n",
            " 169.00712918 158.66075437 159.91768532 167.1132964  157.28057907\n",
            " 165.59093724 172.21630393 171.68008481 170.48825865 169.71012266\n",
            " 172.61711095 166.19044208 165.08432361 167.51965835 166.51677878\n",
            " 167.65254837 174.30203447 174.4252385  169.53763597 168.07598161\n",
            " 171.97509533 173.45192813 172.26405393 159.97483038 164.30948716\n",
            " 173.47381816 167.58626007 170.43408075 167.91462547 168.70353472\n",
            " 170.04888619 168.2988194  172.19236809 174.03133717 168.2988194\n",
            " 168.45585823 159.33311025 172.6403364  173.51749646 169.76715204\n",
            " 158.97035447 171.99940291 173.96812283 161.33293708 158.78541216\n",
            " 168.61116562 172.50040574 161.79148078 168.82575881 163.66616818\n",
            " 164.26750133 173.75533574 173.09698053 169.24537989 163.53390206\n",
            " 174.24002598 168.42459021 168.9167359  166.73021071 166.94045696\n",
            " 169.68152116 173.18655944 172.16839151 172.12031556 164.22538997\n",
            " 169.65286146 173.81951005 171.07085527 171.07085527 174.40477918\n",
            " 172.26405393 172.21630393 161.01873288 160.25712916 170.27028544\n",
            " 173.0744965  166.44491007 173.56103973 160.42383214 172.21630393\n",
            " 173.79815109 173.09698053 165.74322237 163.26558467 169.45059406\n",
            " 163.66616818 166.87072297 159.27329599 158.02036057 168.45585823\n",
            " 170.21526101 165.24215426 168.58024083 170.59599331 171.35335993\n",
            " 166.26361751 173.81951005 169.56653082 168.97706249 169.62414333\n",
            " 165.00474014 168.07598161 171.85292425 159.45198216 171.04488984\n",
            " 163.31066066 170.27028544 166.94045696 171.2512853  159.33311025\n",
            " 160.08842968 167.00984743 164.84421148 158.59800934 171.60535659\n",
            " 172.19236809 172.26405393 174.32264345 164.22538997 174.05234573\n",
            " 174.60804732 173.88339333 168.39325263 166.07996122 170.35242117\n",
            " 164.76325587 173.66931265 174.32264345 161.69086436 173.49567424\n",
            " 167.45274023 169.06707071 169.215818   157.41800686 162.52403253\n",
            " 166.44491007 173.75533574 168.2988194  166.58828268 162.85327511]\n"
          ],
          "name": "stdout"
        }
      ]
    },
    {
      "cell_type": "code",
      "metadata": {
        "id": "9yIOZeNQmOyD"
      },
      "source": [
        "\r\n",
        "R_sorting=R[np.argsort(R)]\r\n",
        "Urban_sorting3=GrafikUrban3[np.argsort(R)]"
      ],
      "execution_count": 49,
      "outputs": []
    },
    {
      "cell_type": "code",
      "metadata": {
        "colab": {
          "base_uri": "https://localhost:8080/",
          "height": 295
        },
        "id": "FOz9QKVumROo",
        "outputId": "dc9e2f4c-ef74-4fb7-d559-50f9ad1889d5"
      },
      "source": [
        "plt.figure()\r\n",
        "plt.plot(P_sorting,Urban_sorting1,'y', label='1800 Mhz')\r\n",
        "plt.plot(K_sorting,Urban_sorting2,'b', label='900 Mhz')\r\n",
        "plt.plot(R_sorting,Urban_sorting3,'r', label='700 Mhz')\r\n",
        "plt.legend()\r\n",
        "plt.title('Model Urban (GAMBAR CONTOH)')\r\n",
        "plt.xlabel('Jarak (m)')\r\n",
        "plt.ylabel('Path Loss (dB)')\r\n",
        "plt.show()"
      ],
      "execution_count": 50,
      "outputs": [
        {
          "output_type": "display_data",
          "data": {
            "image/png": "[encoded data removed]",
            "text/plain": [
              "<Figure size 432x288 with 1 Axes>"
            ]
          },
          "metadata": {
            "tags": [],
            "needs_background": "light"
          }
        }
      ]
    }
  ]
}