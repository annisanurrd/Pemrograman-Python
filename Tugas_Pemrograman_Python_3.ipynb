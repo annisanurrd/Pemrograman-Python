{
  "nbformat": 4,
  "nbformat_minor": 0,
  "metadata": {
    "colab": {
      "name": "Tugas Pemrograman Python 3.ipynb",
      "provenance": [],
      "authorship_tag": "ABX9TyM7Gqzn4iY6Xrh2f32mce+9",
      "include_colab_link": true
    },
    "kernelspec": {
      "name": "python3",
      "display_name": "Python 3"
    }
  },
  "cells": [
    {
      "cell_type": "markdown",
      "metadata": {
        "id": "view-in-github",
        "colab_type": "text"
      },
      "source": [
        "<a href=\"https://colab.research.google.com/github/annisanurrd/Pemrograman-Python/blob/main/Tugas_Pemrograman_Python_3.ipynb\" target=\"_parent\"><img src=\"https://colab.research.google.com/assets/colab-badge.svg\" alt=\"Open In Colab\"/></a>"
      ]
    },
    {
      "cell_type": "code",
      "metadata": {
        "colab": {
          "base_uri": "https://localhost:8080/"
        },
        "id": "LiAlVzM0X256",
        "outputId": "a228abba-59ce-483c-f1c5-2a2a37ca7924"
      },
      "source": [
        "from google.colab import drive\r\n",
        "drive.mount('/content/drive')"
      ],
      "execution_count": 1,
      "outputs": [
        {
          "output_type": "stream",
          "text": [
            "Mounted at /content/drive\n"
          ],
          "name": "stdout"
        }
      ]
    },
    {
      "cell_type": "code",
      "metadata": {
        "id": "HMo0huksYEA2"
      },
      "source": [
        "import numpy as np\r\n",
        "import numpy as AnnisaNur"
      ],
      "execution_count": 2,
      "outputs": []
    },
    {
      "cell_type": "code",
      "metadata": {
        "colab": {
          "base_uri": "https://localhost:8080/"
        },
        "id": "GjsThGf2YG8t",
        "outputId": "4621f188-4ed0-421e-e0ca-d95b7ee3e9df"
      },
      "source": [
        "y=10*np.log10(100)\r\n",
        "print(y)"
      ],
      "execution_count": 3,
      "outputs": [
        {
          "output_type": "stream",
          "text": [
            "20.0\n"
          ],
          "name": "stdout"
        }
      ]
    },
    {
      "cell_type": "code",
      "metadata": {
        "id": "b1rN6x7EYJcV"
      },
      "source": [
        "NTL = lambda x : 10*np.log10(x)"
      ],
      "execution_count": 4,
      "outputs": []
    },
    {
      "cell_type": "code",
      "metadata": {
        "colab": {
          "base_uri": "https://localhost:8080/"
        },
        "id": "oszYMQwlYMT5",
        "outputId": "b010e2cb-82dd-4964-e667-3bb8d2edaa4d"
      },
      "source": [
        "z=NTL(100)\r\n",
        "print(z)"
      ],
      "execution_count": 5,
      "outputs": [
        {
          "output_type": "stream",
          "text": [
            "20.0\n"
          ],
          "name": "stdout"
        }
      ]
    },
    {
      "cell_type": "code",
      "metadata": {
        "id": "uo2bcAbNYO-h"
      },
      "source": [
        "LTN = lambda x: 10**(x/10)"
      ],
      "execution_count": 6,
      "outputs": []
    },
    {
      "cell_type": "code",
      "metadata": {
        "colab": {
          "base_uri": "https://localhost:8080/"
        },
        "id": "UUPKuAg3YSjb",
        "outputId": "d6889550-8cb2-43f5-99ba-d313f0b0843c"
      },
      "source": [
        "y=LTN(3)\r\n",
        "print(y)"
      ],
      "execution_count": 7,
      "outputs": [
        {
          "output_type": "stream",
          "text": [
            "1.9952623149688795\n"
          ],
          "name": "stdout"
        }
      ]
    },
    {
      "cell_type": "code",
      "metadata": {
        "colab": {
          "base_uri": "https://localhost:8080/"
        },
        "id": "h5c3ZVh1YVLQ",
        "outputId": "ecc7166b-36dd-4d10-ce67-dd3117eb0b5b"
      },
      "source": [
        "PL = -22.75 + (20*np.log10(500))+ (20*np.log10(1800000000))\r\n",
        "print(PL)"
      ],
      "execution_count": 8,
      "outputs": [
        {
          "output_type": "stream",
          "text": [
            "216.3348501887865\n"
          ],
          "name": "stdout"
        }
      ]
    },
    {
      "cell_type": "code",
      "metadata": {
        "id": "IoCWsauwYYky"
      },
      "source": [
        "def ploss(d,f):\r\n",
        "  pldb=PL = -22.75 + (20*np.log10(d))+ (20*np.log10(f))\r\n",
        "  plnum=LTN(-pldb)\r\n",
        "  return pldb,plnum"
      ],
      "execution_count": 9,
      "outputs": []
    },
    {
      "cell_type": "code",
      "metadata": {
        "colab": {
          "base_uri": "https://localhost:8080/"
        },
        "id": "2-Nvpmx8Ybh1",
        "outputId": "bb7d2135-fe28-40f7-d72c-b7e81e311a85"
      },
      "source": [
        "pathlossdb, pathlossnum = ploss(500, 1800000000)\r\n",
        "print (\"Hasil Pathloss dalam db =\",pathlossdb,\"db\")\r\n",
        "print (\"Hasil Pathloss dalam Numerik =\",pathlossnum,\"kali\")"
      ],
      "execution_count": 10,
      "outputs": [
        {
          "output_type": "stream",
          "text": [
            "Hasil Pathloss dalam db = 216.3348501887865 db\n",
            "Hasil Pathloss dalam Numerik = 2.3254927030738165e-22 kali\n"
          ],
          "name": "stdout"
        }
      ]
    },
    {
      "cell_type": "code",
      "metadata": {
        "id": "UUip_W5YYgTj"
      },
      "source": [
        "def Prx(d,f,Ptx):\r\n",
        "\r\n",
        "  #fungsi menghitung daya terima, input d(jarak(km))\r\n",
        "  #f(frekuensi(MHz)), dan Ptx(daya pancar (W))\r\n",
        "\r\n",
        "  #mengubah Ptx dari Watt ke dBW\r\n",
        "  Pdb = NTL(Ptx)\r\n",
        "\r\n",
        "  #menghitung pathloss\r\n",
        "  pldb= 32.5 + (20*np.log10(d)) + (20*np.log10(f))\r\n",
        "\r\n",
        "  #hitung prx dalam dB\r\n",
        "  prdb=Pdb-pldb\r\n",
        "\r\n",
        "  #ubah daya terima ke bentuk numerik\r\n",
        "  prx=LTN(prdb)\r\n",
        "\r\n",
        "  return prx,prdb"
      ],
      "execution_count": 11,
      "outputs": []
    },
    {
      "cell_type": "code",
      "metadata": {
        "colab": {
          "base_uri": "https://localhost:8080/"
        },
        "id": "wTUab5nLYjqu",
        "outputId": "43d718d0-1db1-45b8-d7e4-026da167e97e"
      },
      "source": [
        "PRX,PRDB=Prx(5,700,40)\r\n",
        "print(\"daya terima adalah :\", PRX,\"W\")"
      ],
      "execution_count": 12,
      "outputs": [
        {
          "output_type": "stream",
          "text": [
            "daya terima adalah : 1.8362165720501197e-09 W\n"
          ],
          "name": "stdout"
        }
      ]
    },
    {
      "cell_type": "code",
      "metadata": {
        "id": "ggAdFTDUYmpy"
      },
      "source": [
        "def noise(B):\r\n",
        "  #B adalah Bandwidth dalam hertz\r\n",
        "  N=1.38*(10**(-23))*290*B\r\n",
        "  return N"
      ],
      "execution_count": 13,
      "outputs": []
    },
    {
      "cell_type": "code",
      "metadata": {
        "colab": {
          "base_uri": "https://localhost:8080/"
        },
        "id": "C_KFv0iXYp8A",
        "outputId": "f0929151-f88d-42cb-dee2-1452e77ad289"
      },
      "source": [
        "Noise=noise(180000)\r\n",
        "print(Noise)"
      ],
      "execution_count": 14,
      "outputs": [
        {
          "output_type": "stream",
          "text": [
            "7.203599999999998e-16\n"
          ],
          "name": "stdout"
        }
      ]
    },
    {
      "cell_type": "code",
      "metadata": {
        "colab": {
          "base_uri": "https://localhost:8080/"
        },
        "id": "YHV6z603YsmW",
        "outputId": "2d220ab8-ee8f-403f-b3a5-a3b92828ebb3"
      },
      "source": [
        "SNR=PRX/Noise\r\n",
        "print(SNR)"
      ],
      "execution_count": 15,
      "outputs": [
        {
          "output_type": "stream",
          "text": [
            "2549026.281373369\n"
          ],
          "name": "stdout"
        }
      ]
    },
    {
      "cell_type": "code",
      "metadata": {
        "colab": {
          "base_uri": "https://localhost:8080/"
        },
        "id": "h8rbfaebYvho",
        "outputId": "4e35d663-ad3a-43ca-bab3-3e8fe22b4c7e"
      },
      "source": [
        "print (\"Annisa Nur R_1101183497\")\r\n",
        "def c1(c1_value) :\r\n",
        "  if c1_value in range(400,1500) :\r\n",
        "    return 69.55\r\n",
        "  elif c1_value in range(1500,2000) :\r\n",
        "    return 46.3\r\n",
        "  else : return 0"
      ],
      "execution_count": 16,
      "outputs": [
        {
          "output_type": "stream",
          "text": [
            "Annisa Nur R_1101183497\n"
          ],
          "name": "stdout"
        }
      ]
    },
    {
      "cell_type": "code",
      "metadata": {
        "colab": {
          "base_uri": "https://localhost:8080/"
        },
        "id": "Ja5aMI81aLKu",
        "outputId": "7bd1c00c-0475-4be8-9758-5074a5696477"
      },
      "source": [
        "print (\"Annisa Nur R_1101183497\")\r\n",
        "def c2(c2_value):\r\n",
        "  if c2_value in range(400,1500):\r\n",
        "    return 26.16\r\n",
        "  elif c2_value in range(1500,2000):\r\n",
        "    return 33.9\r\n",
        "  else: return 0"
      ],
      "execution_count": 17,
      "outputs": [
        {
          "output_type": "stream",
          "text": [
            "Annisa Nur R_1101183497\n"
          ],
          "name": "stdout"
        }
      ]
    },
    {
      "cell_type": "code",
      "metadata": {
        "colab": {
          "base_uri": "https://localhost:8080/"
        },
        "id": "aSQYdLMnaRRV",
        "outputId": "aa2006ce-b8cf-4609-8475-8aeee78041f1"
      },
      "source": [
        "print (\"Annisa Nur R_1101183497\")\r\n",
        "def ahr(fc,hr):\r\n",
        "  x=(1.1*AnnisaNur.log10(fc)-0.7)*hr-(1.56*AnnisaNur.log10(fc)-0.8)\r\n",
        "  return x"
      ],
      "execution_count": 18,
      "outputs": [
        {
          "output_type": "stream",
          "text": [
            "Annisa Nur R_1101183497\n"
          ],
          "name": "stdout"
        }
      ]
    },
    {
      "cell_type": "code",
      "metadata": {
        "colab": {
          "base_uri": "https://localhost:8080/"
        },
        "id": "IBSvoKXIaXVJ",
        "outputId": "851da561-f095-404a-e2e0-632aa6b4e077"
      },
      "source": [
        "print (\"Annisa Nur R_1101183497\")\r\n",
        "#suburban\r\n",
        "SbN = lambda x: -2*AnnisaNur.log10(x/28)*AnnisaNur.log10(x/28)-5.4\r\n",
        "#open\r\n",
        "Op = lambda x: -4.78*AnnisaNur.log10(x)*AnnisaNur.log10(x)+18.33*AnnisaNur.log10(x)-40.94"
      ],
      "execution_count": 19,
      "outputs": [
        {
          "output_type": "stream",
          "text": [
            "Annisa Nur R_1101183497\n"
          ],
          "name": "stdout"
        }
      ]
    },
    {
      "cell_type": "code",
      "metadata": {
        "colab": {
          "base_uri": "https://localhost:8080/"
        },
        "id": "oVuv3paMaYC3",
        "outputId": "86a17ef3-b542-40a9-ae2c-4c5f9f3780bb"
      },
      "source": [
        "print (\"Annisa Nur R_1101183497\")\r\n",
        "def Ptl(fc,hT,hr,d,Cm):\r\n",
        "  #mencari nilai c1 dari frekuensi\r\n",
        "  C1=c1(fc)\r\n",
        "  #mencari nilai c2 dari frekuensi\r\n",
        "  C2=c2(fc)\r\n",
        "  #mencari nilai a(hR)\r\n",
        "  ahR=ahr(fc,hr)\r\n",
        "\r\n",
        "  #rumus cost 231 pathloss model\r\n",
        "  Lp=C1+C2*AnnisaNur.log10(fc)-13.83*AnnisaNur.log10(hT)-ahR+(44.9-6.55*AnnisaNur.log10(hT))*AnnisaNur.log10(d)+Cm\r\n",
        "  print(Lp)\r\n",
        "  return Lp"
      ],
      "execution_count": 20,
      "outputs": [
        {
          "output_type": "stream",
          "text": [
            "Annisa Nur R_1101183497\n"
          ],
          "name": "stdout"
        }
      ]
    },
    {
      "cell_type": "code",
      "metadata": {
        "colab": {
          "base_uri": "https://localhost:8080/"
        },
        "id": "uXYhORvnaYjx",
        "outputId": "9a267b9b-2ec1-4f46-96ec-b417aa0af96c"
      },
      "source": [
        "print (\"Annisa Nur R_1101183497\")\r\n",
        "fc=int(input(\"Frekuensi (150 s.d 2000): \"))#Mhz 150 s.d 2000\r\n",
        "hT=int(input(\"Tinggi Antena Pengirim (30 s.d 200): \"))#meter 30 s.d 200\r\n",
        "hr=int(input(\"Tinggi Antena Penerima (1 s.d 30): \"))#meter 1 s.d 30 \r\n",
        "d=int(input(\"Jarak : \"))#Km\r\n",
        "# 1=urban   2=suburban    3=open\r\n",
        "area=int(input(\"Masukkan Area (1=Urban || 2=Suburban || 3=Open) : \"))    \r\n",
        "\r\n",
        "#mendapatkan nilai Cm berdasarkan area\r\n",
        "if area==1:\r\n",
        "  Cm=0\r\n",
        "elif area==2:\r\n",
        "  Cm=SbN(fc)\r\n",
        "elif area==3:\r\n",
        "  Cm=Op(fc)\r\n",
        "else: print(\"Tidak Ada Pilihan\")\r\n",
        "\r\n",
        "#menghitung pathloss\r\n",
        "Lp=Ptl(fc, hT, hr, d, Cm)\r\n",
        "print(\"Nilai Pathloss dalam dB =\", Lp,\"dB\")"
      ],
      "execution_count": 21,
      "outputs": [
        {
          "output_type": "stream",
          "text": [
            "Annisa Nur R_1101183497\n",
            "Frekuensi (150 s.d 2000): 150\n",
            "Tinggi Antena Pengirim (30 s.d 200): 50\n",
            "Tinggi Antena Penerima (1 s.d 30): 24\n",
            "Jarak : 500\n",
            "Masukkan Area (1=Urban || 2=Suburban || 3=Open) : 2\n",
            "23.135381385046884\n",
            "Nilai Pathloss dalam dB = 23.135381385046884 dB\n"
          ],
          "name": "stdout"
        }
      ]
    }
  ]
}